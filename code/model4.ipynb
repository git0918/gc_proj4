{
 "cells": [
  {
   "cell_type": "code",
   "execution_count": null,
   "metadata": {},
   "outputs": [],
   "source": []
  },
  {
   "cell_type": "code",
   "execution_count": null,
   "metadata": {},
   "outputs": [],
   "source": []
  },
  {
   "cell_type": "code",
   "execution_count": null,
   "metadata": {},
   "outputs": [],
   "source": []
  },
  {
   "cell_type": "code",
   "execution_count": null,
   "metadata": {},
   "outputs": [],
   "source": []
  },
  {
   "cell_type": "code",
   "execution_count": 36,
   "metadata": {
    "ExecuteTime": {
     "end_time": "2021-05-03T21:58:20.221397Z",
     "start_time": "2021-05-03T21:58:20.205029Z"
    }
   },
   "outputs": [],
   "source": [
    "import pandas as pd\n",
    "import numpy as np\n",
    "from sklearn.model_selection import train_test_split, GridSearchCV, RandomizedSearchCV\n",
    "from sklearn.metrics import roc_auc_score, f1_score, accuracy_score, confusion_matrix, plot_confusion_matrix\n",
    "from sklearn.feature_extraction.text import CountVectorizer, TfidfVectorizer\n",
    "from sklearn.pipeline import Pipeline\n",
    "from xgboost import XGBClassifier\n",
    "import matplotlib.pyplot as plt"
   ]
  },
  {
   "cell_type": "code",
   "execution_count": null,
   "metadata": {},
   "outputs": [],
   "source": []
  },
  {
   "cell_type": "code",
   "execution_count": null,
   "metadata": {},
   "outputs": [],
   "source": []
  },
  {
   "cell_type": "code",
   "execution_count": 3,
   "metadata": {
    "ExecuteTime": {
     "end_time": "2021-05-03T20:34:14.718651Z",
     "start_time": "2021-05-03T20:34:14.627588Z"
    }
   },
   "outputs": [],
   "source": [
    "df = pd.read_csv('../data/ing1.csv')"
   ]
  },
  {
   "cell_type": "code",
   "execution_count": 4,
   "metadata": {
    "ExecuteTime": {
     "end_time": "2021-05-03T20:34:18.658462Z",
     "start_time": "2021-05-03T20:34:18.643086Z"
    }
   },
   "outputs": [
    {
     "data": {
      "text/html": [
       "<div>\n",
       "<style scoped>\n",
       "    .dataframe tbody tr th:only-of-type {\n",
       "        vertical-align: middle;\n",
       "    }\n",
       "\n",
       "    .dataframe tbody tr th {\n",
       "        vertical-align: top;\n",
       "    }\n",
       "\n",
       "    .dataframe thead th {\n",
       "        text-align: right;\n",
       "    }\n",
       "</style>\n",
       "<table border=\"1\" class=\"dataframe\">\n",
       "  <thead>\n",
       "    <tr style=\"text-align: right;\">\n",
       "      <th></th>\n",
       "      <th>id</th>\n",
       "      <th>cuisine</th>\n",
       "      <th>ingredients</th>\n",
       "      <th>ingredient_count</th>\n",
       "    </tr>\n",
       "  </thead>\n",
       "  <tbody>\n",
       "    <tr>\n",
       "      <th>0</th>\n",
       "      <td>10259</td>\n",
       "      <td>greek</td>\n",
       "      <td>romainelettuce blackolives grapetomatoes garli...</td>\n",
       "      <td>9</td>\n",
       "    </tr>\n",
       "    <tr>\n",
       "      <th>1</th>\n",
       "      <td>25693</td>\n",
       "      <td>southern_us</td>\n",
       "      <td>plainflour groundpepper salt tomatoes groundbl...</td>\n",
       "      <td>11</td>\n",
       "    </tr>\n",
       "    <tr>\n",
       "      <th>2</th>\n",
       "      <td>20130</td>\n",
       "      <td>filipino</td>\n",
       "      <td>eggs pepper salt mayonaise cookingoil greenchi...</td>\n",
       "      <td>12</td>\n",
       "    </tr>\n",
       "    <tr>\n",
       "      <th>3</th>\n",
       "      <td>22213</td>\n",
       "      <td>indian</td>\n",
       "      <td>water vegetableoil wheat salt</td>\n",
       "      <td>4</td>\n",
       "    </tr>\n",
       "    <tr>\n",
       "      <th>4</th>\n",
       "      <td>13162</td>\n",
       "      <td>indian</td>\n",
       "      <td>blackpepper shallots cornflour cayennepepper o...</td>\n",
       "      <td>20</td>\n",
       "    </tr>\n",
       "  </tbody>\n",
       "</table>\n",
       "</div>"
      ],
      "text/plain": [
       "      id  ... ingredient_count\n",
       "0  10259  ...                9\n",
       "1  25693  ...               11\n",
       "2  20130  ...               12\n",
       "3  22213  ...                4\n",
       "4  13162  ...               20\n",
       "\n",
       "[5 rows x 4 columns]"
      ]
     },
     "execution_count": 4,
     "metadata": {},
     "output_type": "execute_result"
    }
   ],
   "source": [
    "df.head()"
   ]
  },
  {
   "cell_type": "code",
   "execution_count": 5,
   "metadata": {
    "ExecuteTime": {
     "end_time": "2021-05-03T20:35:43.560559Z",
     "start_time": "2021-05-03T20:35:43.528318Z"
    }
   },
   "outputs": [],
   "source": [
    "X = df.ingredients\n",
    "y = df.cuisine\n",
    "\n",
    "X_train, X_test, y_train, y_test = train_test_split(X, y, random_state=42, stratify=y)"
   ]
  },
  {
   "cell_type": "code",
   "execution_count": null,
   "metadata": {},
   "outputs": [],
   "source": [
    "XGBClassifier()"
   ]
  },
  {
   "cell_type": "code",
   "execution_count": 6,
   "metadata": {
    "ExecuteTime": {
     "end_time": "2021-05-03T20:36:12.317513Z",
     "start_time": "2021-05-03T20:36:12.307098Z"
    }
   },
   "outputs": [],
   "source": [
    "pipe1 = Pipeline([\n",
    "    ('cvec', CountVectorizer()),\n",
    "    ('xgb', XGBClassifier())\n",
    "])"
   ]
  },
  {
   "cell_type": "code",
   "execution_count": 14,
   "metadata": {
    "ExecuteTime": {
     "end_time": "2021-05-03T21:09:18.501644Z",
     "start_time": "2021-05-03T21:09:18.493212Z"
    }
   },
   "outputs": [],
   "source": [
    "params = {\n",
    "    'cvec__min_df': np.linspace(0, .5, 20),\n",
    "    'cvec__max_df': np.linspace(.9, 1, 10),\n",
    "    'cvec__max_features': range(300, 5000, 15),\n",
    "    'xgb__learning_rate': np.linspace(.01, .3, 10),\n",
    "    'xgb__min_child_weight': [.5, 1, 2, 3],\n",
    "    'xgb__max_depth': range(3, 12),\n",
    "    'xgb__gamma': np.linspace(0, 1, 10),\n",
    "    'xgb__objective': ['multi:softmax'],\n",
    "    'xgb__eval_metric': ['auc'],\n",
    "}"
   ]
  },
  {
   "cell_type": "code",
   "execution_count": 15,
   "metadata": {
    "ExecuteTime": {
     "end_time": "2021-05-03T21:09:18.731999Z",
     "start_time": "2021-05-03T21:09:18.721583Z"
    }
   },
   "outputs": [],
   "source": [
    "rs1 = RandomizedSearchCV(pipe1, param_distributions=params, n_iter=100, n_jobs=-1, verbose=1)"
   ]
  },
  {
   "cell_type": "code",
   "execution_count": 16,
   "metadata": {
    "ExecuteTime": {
     "end_time": "2021-05-03T21:22:16.804356Z",
     "start_time": "2021-05-03T21:09:18.878473Z"
    }
   },
   "outputs": [
    {
     "name": "stdout",
     "output_type": "stream",
     "text": [
      "Fitting 5 folds for each of 100 candidates, totalling 500 fits\n"
     ]
    },
    {
     "name": "stderr",
     "output_type": "stream",
     "text": [
      "[Parallel(n_jobs=-1)]: Using backend LokyBackend with 16 concurrent workers.\n",
      "[Parallel(n_jobs=-1)]: Done  18 tasks      | elapsed:   19.8s\n",
      "[Parallel(n_jobs=-1)]: Done 168 tasks      | elapsed:  5.0min\n",
      "[Parallel(n_jobs=-1)]: Done 418 tasks      | elapsed: 10.5min\n",
      "[Parallel(n_jobs=-1)]: Done 500 out of 500 | elapsed: 12.8min finished\n",
      "C:\\Users\\c24th\\anaconda3\\lib\\site-packages\\xgboost\\sklearn.py:1146: UserWarning: The use of label encoder in XGBClassifier is deprecated and will be removed in a future release. To remove this warning, do the following: 1) Pass option use_label_encoder=False when constructing XGBClassifier object; and 2) Encode your labels (y) as integers starting with 0, i.e. 0, 1, 2, ..., [num_class - 1].\n",
      "  warnings.warn(label_encoder_deprecation_msg, UserWarning)\n"
     ]
    },
    {
     "data": {
      "text/plain": [
       "RandomizedSearchCV(estimator=Pipeline(steps=[('cvec', CountVectorizer()),\n",
       "                                             ('xgb',\n",
       "                                              XGBClassifier(base_score=None,\n",
       "                                                            booster=None,\n",
       "                                                            colsample_bylevel=None,\n",
       "                                                            colsample_bynode=None,\n",
       "                                                            colsample_bytree=None,\n",
       "                                                            gamma=None,\n",
       "                                                            gpu_id=None,\n",
       "                                                            importance_type='gain',\n",
       "                                                            interaction_constraints=None,\n",
       "                                                            learning_rate=None,\n",
       "                                                            max_delta_step=None,\n",
       "                                                            max_depth=None,\n",
       "                                                            min_child_weight=None,\n",
       "                                                            missing=na...\n",
       "                                        'xgb__gamma': array([0.        , 0.11111111, 0.22222222, 0.33333333, 0.44444444,\n",
       "       0.55555556, 0.66666667, 0.77777778, 0.88888889, 1.        ]),\n",
       "                                        'xgb__learning_rate': array([0.01      , 0.04222222, 0.07444444, 0.10666667, 0.13888889,\n",
       "       0.17111111, 0.20333333, 0.23555556, 0.26777778, 0.3       ]),\n",
       "                                        'xgb__max_depth': range(3, 12),\n",
       "                                        'xgb__min_child_weight': [0.5, 1, 2, 3],\n",
       "                                        'xgb__objective': ['multi:softmax']},\n",
       "                   verbose=1)"
      ]
     },
     "execution_count": 16,
     "metadata": {},
     "output_type": "execute_result"
    }
   ],
   "source": [
    "rs1.fit(X_train, y_train)"
   ]
  },
  {
   "cell_type": "code",
   "execution_count": 17,
   "metadata": {
    "ExecuteTime": {
     "end_time": "2021-05-03T21:23:35.869902Z",
     "start_time": "2021-05-03T21:23:35.665549Z"
    }
   },
   "outputs": [],
   "source": [
    "y_hat = rs1.predict(X_test)"
   ]
  },
  {
   "cell_type": "code",
   "execution_count": 19,
   "metadata": {
    "ExecuteTime": {
     "end_time": "2021-05-03T21:24:23.787733Z",
     "start_time": "2021-05-03T21:24:22.948527Z"
    }
   },
   "outputs": [
    {
     "data": {
      "text/plain": [
       "(0.8766677841099564, 0.7498994368463395)"
      ]
     },
     "execution_count": 19,
     "metadata": {},
     "output_type": "execute_result"
    }
   ],
   "source": [
    "rs1.score(X_train, y_train), rs1.score(X_test, y_test)"
   ]
  },
  {
   "cell_type": "code",
   "execution_count": 20,
   "metadata": {
    "ExecuteTime": {
     "end_time": "2021-05-03T21:27:03.858995Z",
     "start_time": "2021-05-03T21:27:03.847553Z"
    }
   },
   "outputs": [],
   "source": [
    "pipe2 = Pipeline([\n",
    "    ('tfidf', TfidfVectorizer()),\n",
    "    ('xgb', XGBClassifier())\n",
    "])"
   ]
  },
  {
   "cell_type": "code",
   "execution_count": null,
   "metadata": {},
   "outputs": [],
   "source": [
    "TfidfVectorizer()"
   ]
  },
  {
   "cell_type": "code",
   "execution_count": 22,
   "metadata": {
    "ExecuteTime": {
     "end_time": "2021-05-03T21:28:16.705953Z",
     "start_time": "2021-05-03T21:28:16.691544Z"
    }
   },
   "outputs": [],
   "source": [
    "params2 = {\n",
    "    'tfidf__min_df': np.linspace(0, .5, 20),\n",
    "    'tfidf__max_df': np.linspace(.9, 1, 10),\n",
    "    'tfidf__max_features': range(300, 5000, 15),\n",
    "    'xgb__learning_rate': np.linspace(.01, .3, 10),\n",
    "    'xgb__min_child_weight': [.5, 1, 2, 3],\n",
    "    'xgb__max_depth': range(3, 12),\n",
    "    'xgb__gamma': np.linspace(0, 1, 10),\n",
    "    'xgb__objective': ['multi:softmax'],\n",
    "    'xgb__eval_metric': ['auc'],\n",
    "}"
   ]
  },
  {
   "cell_type": "code",
   "execution_count": 23,
   "metadata": {
    "ExecuteTime": {
     "end_time": "2021-05-03T21:28:17.182498Z",
     "start_time": "2021-05-03T21:28:17.173595Z"
    }
   },
   "outputs": [],
   "source": [
    "rs2 = RandomizedSearchCV(pipe2, param_distributions=params2, n_iter=100, n_jobs=-1, verbose=1)"
   ]
  },
  {
   "cell_type": "code",
   "execution_count": 24,
   "metadata": {
    "ExecuteTime": {
     "end_time": "2021-05-03T21:48:11.812395Z",
     "start_time": "2021-05-03T21:28:31.857869Z"
    }
   },
   "outputs": [
    {
     "name": "stdout",
     "output_type": "stream",
     "text": [
      "Fitting 5 folds for each of 100 candidates, totalling 500 fits\n"
     ]
    },
    {
     "name": "stderr",
     "output_type": "stream",
     "text": [
      "[Parallel(n_jobs=-1)]: Using backend LokyBackend with 16 concurrent workers.\n",
      "[Parallel(n_jobs=-1)]: Done  18 tasks      | elapsed:   45.4s\n",
      "[Parallel(n_jobs=-1)]: Done 168 tasks      | elapsed:  7.0min\n",
      "[Parallel(n_jobs=-1)]: Done 418 tasks      | elapsed: 14.8min\n",
      "[Parallel(n_jobs=-1)]: Done 500 out of 500 | elapsed: 18.8min finished\n",
      "C:\\Users\\c24th\\anaconda3\\lib\\site-packages\\xgboost\\sklearn.py:1146: UserWarning: The use of label encoder in XGBClassifier is deprecated and will be removed in a future release. To remove this warning, do the following: 1) Pass option use_label_encoder=False when constructing XGBClassifier object; and 2) Encode your labels (y) as integers starting with 0, i.e. 0, 1, 2, ..., [num_class - 1].\n",
      "  warnings.warn(label_encoder_deprecation_msg, UserWarning)\n"
     ]
    },
    {
     "data": {
      "text/plain": [
       "RandomizedSearchCV(estimator=Pipeline(steps=[('tfidf', TfidfVectorizer()),\n",
       "                                             ('xgb',\n",
       "                                              XGBClassifier(base_score=None,\n",
       "                                                            booster=None,\n",
       "                                                            colsample_bylevel=None,\n",
       "                                                            colsample_bynode=None,\n",
       "                                                            colsample_bytree=None,\n",
       "                                                            gamma=None,\n",
       "                                                            gpu_id=None,\n",
       "                                                            importance_type='gain',\n",
       "                                                            interaction_constraints=None,\n",
       "                                                            learning_rate=None,\n",
       "                                                            max_delta_step=None,\n",
       "                                                            max_depth=None,\n",
       "                                                            min_child_weight=None,\n",
       "                                                            missing=n...\n",
       "                                        'xgb__gamma': array([0.        , 0.11111111, 0.22222222, 0.33333333, 0.44444444,\n",
       "       0.55555556, 0.66666667, 0.77777778, 0.88888889, 1.        ]),\n",
       "                                        'xgb__learning_rate': array([0.01      , 0.04222222, 0.07444444, 0.10666667, 0.13888889,\n",
       "       0.17111111, 0.20333333, 0.23555556, 0.26777778, 0.3       ]),\n",
       "                                        'xgb__max_depth': range(3, 12),\n",
       "                                        'xgb__min_child_weight': [0.5, 1, 2, 3],\n",
       "                                        'xgb__objective': ['multi:softmax']},\n",
       "                   verbose=1)"
      ]
     },
     "execution_count": 24,
     "metadata": {},
     "output_type": "execute_result"
    }
   ],
   "source": [
    "rs2.fit(X_train, y_train)"
   ]
  },
  {
   "cell_type": "code",
   "execution_count": 25,
   "metadata": {
    "ExecuteTime": {
     "end_time": "2021-05-03T21:48:33.792776Z",
     "start_time": "2021-05-03T21:48:32.772999Z"
    }
   },
   "outputs": [
    {
     "data": {
      "text/plain": [
       "(0.9, 0.7364239742558326)"
      ]
     },
     "execution_count": 25,
     "metadata": {},
     "output_type": "execute_result"
    }
   ],
   "source": [
    " rs2.score(X_train, y_train), rs2.score(X_test, y_test)"
   ]
  },
  {
   "cell_type": "code",
   "execution_count": 39,
   "metadata": {
    "ExecuteTime": {
     "end_time": "2021-05-03T21:59:27.091426Z",
     "start_time": "2021-05-03T21:59:27.075033Z"
    }
   },
   "outputs": [
    {
     "data": {
      "text/plain": [
       "italian         0.197063\n",
       "mexican         0.161865\n",
       "southern_us     0.108614\n",
       "indian          0.075502\n",
       "chinese         0.067205\n",
       "french          0.066526\n",
       "cajun_creole    0.038870\n",
       "thai            0.038694\n",
       "japanese        0.035777\n",
       "greek           0.029542\n",
       "spanish         0.024865\n",
       "korean          0.020868\n",
       "vietnamese      0.020742\n",
       "moroccan        0.020642\n",
       "british         0.020214\n",
       "filipino        0.018982\n",
       "irish           0.016770\n",
       "jamaican        0.013225\n",
       "russian         0.012294\n",
       "brazilian       0.011741\n",
       "Name: cuisine, dtype: float64"
      ]
     },
     "execution_count": 39,
     "metadata": {},
     "output_type": "execute_result"
    }
   ],
   "source": [
    "df.cuisine.value_counts(normalize=True)"
   ]
  },
  {
   "cell_type": "code",
   "execution_count": 40,
   "metadata": {
    "ExecuteTime": {
     "end_time": "2021-05-03T21:59:57.678167Z",
     "start_time": "2021-05-03T21:59:57.668743Z"
    }
   },
   "outputs": [
    {
     "data": {
      "text/plain": [
       "{'xgb__objective': 'multi:softmax',\n",
       " 'xgb__min_child_weight': 1,\n",
       " 'xgb__max_depth': 11,\n",
       " 'xgb__learning_rate': 0.1711111111111111,\n",
       " 'xgb__gamma': 0.7777777777777777,\n",
       " 'xgb__eval_metric': 'auc',\n",
       " 'cvec__min_df': 0.0,\n",
       " 'cvec__max_features': 2595,\n",
       " 'cvec__max_df': 0.9}"
      ]
     },
     "execution_count": 40,
     "metadata": {},
     "output_type": "execute_result"
    }
   ],
   "source": [
    "rs1.best_params_"
   ]
  },
  {
   "cell_type": "code",
   "execution_count": null,
   "metadata": {},
   "outputs": [],
   "source": []
  }
 ],
 "metadata": {
  "kernelspec": {
   "display_name": "Python 3",
   "language": "python",
   "name": "python3"
  },
  "language_info": {
   "codemirror_mode": {
    "name": "ipython",
    "version": 3
   },
   "file_extension": ".py",
   "mimetype": "text/x-python",
   "name": "python",
   "nbconvert_exporter": "python",
   "pygments_lexer": "ipython3",
   "version": "3.8.5"
  },
  "toc": {
   "base_numbering": 1,
   "nav_menu": {},
   "number_sections": true,
   "sideBar": true,
   "skip_h1_title": false,
   "title_cell": "Table of Contents",
   "title_sidebar": "Contents",
   "toc_cell": false,
   "toc_position": {},
   "toc_section_display": true,
   "toc_window_display": false
  },
  "varInspector": {
   "cols": {
    "lenName": 16,
    "lenType": 16,
    "lenVar": 40
   },
   "kernels_config": {
    "python": {
     "delete_cmd_postfix": "",
     "delete_cmd_prefix": "del ",
     "library": "var_list.py",
     "varRefreshCmd": "print(var_dic_list())"
    },
    "r": {
     "delete_cmd_postfix": ") ",
     "delete_cmd_prefix": "rm(",
     "library": "var_list.r",
     "varRefreshCmd": "cat(var_dic_list()) "
    }
   },
   "types_to_exclude": [
    "module",
    "function",
    "builtin_function_or_method",
    "instance",
    "_Feature"
   ],
   "window_display": false
  }
 },
 "nbformat": 4,
 "nbformat_minor": 4
}
