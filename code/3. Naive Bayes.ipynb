{
 "cells": [
  {
   "cell_type": "markdown",
   "metadata": {},
   "source": [
    "### Multinomial Naive Bayes\n",
    "\n",
    "This model showed some promise, tuned the hyperparameters until I seemed to level out at just over 70% accuracy on the testing score, though somewhat overfit.\n",
    "\n",
    "Training score: 0.8547900427457883\n",
    "\n",
    "Testing score: 0.7266499057196731"
   ]
  },
  {
   "cell_type": "code",
   "execution_count": 3,
   "metadata": {},
   "outputs": [],
   "source": [
    "import pandas as pd\n",
    "import matplotlib.pyplot as plt\n",
    "from sklearn.model_selection import train_test_split, RandomizedSearchCV\n",
    "from sklearn.pipeline import Pipeline\n",
    "from sklearn.naive_bayes import MultinomialNB\n",
    "from sklearn.metrics import confusion_matrix, plot_confusion_matrix\n",
    "import seaborn as sns\n",
    "from sklearn.feature_extraction.text import CountVectorizer, TfidfVectorizer\n",
    "import numpy as np"
   ]
  },
  {
   "cell_type": "code",
   "execution_count": 14,
   "metadata": {},
   "outputs": [
    {
     "data": {
      "text/plain": [
       "italian         0.197063\n",
       "mexican         0.161865\n",
       "southern_us     0.108614\n",
       "indian          0.075502\n",
       "chinese         0.067205\n",
       "french          0.066526\n",
       "cajun_creole    0.038870\n",
       "thai            0.038694\n",
       "japanese        0.035777\n",
       "greek           0.029542\n",
       "spanish         0.024865\n",
       "korean          0.020868\n",
       "vietnamese      0.020742\n",
       "moroccan        0.020642\n",
       "british         0.020214\n",
       "filipino        0.018982\n",
       "irish           0.016770\n",
       "jamaican        0.013225\n",
       "russian         0.012294\n",
       "brazilian       0.011741\n",
       "Name: cuisine, dtype: float64"
      ]
     },
     "execution_count": 14,
     "metadata": {},
     "output_type": "execute_result"
    }
   ],
   "source": [
    "df['cuisine'].value_counts(normalize=True)"
   ]
  },
  {
   "cell_type": "code",
   "execution_count": 4,
   "metadata": {},
   "outputs": [],
   "source": [
    "df = pd.read_json('../data/cleaned_v1.json')"
   ]
  },
  {
   "cell_type": "code",
   "execution_count": 4,
   "metadata": {},
   "outputs": [
    {
     "data": {
      "text/plain": [
       "(39774, 4)"
      ]
     },
     "execution_count": 4,
     "metadata": {},
     "output_type": "execute_result"
    }
   ],
   "source": [
    "df.shape"
   ]
  },
  {
   "cell_type": "code",
   "execution_count": 5,
   "metadata": {},
   "outputs": [],
   "source": [
    "X = df['ingredients']\n",
    "y = df['cuisine']"
   ]
  },
  {
   "cell_type": "code",
   "execution_count": 6,
   "metadata": {},
   "outputs": [],
   "source": [
    "X_train, X_test, y_train, y_test = train_test_split(X, y, stratify=y, random_state=42, test_size=0.8)"
   ]
  },
  {
   "cell_type": "code",
   "execution_count": 33,
   "metadata": {},
   "outputs": [],
   "source": [
    "pipe1 = Pipeline([\n",
    "    ('cvec', CountVectorizer()),\n",
    "    ('mnb', MultinomialNB())\n",
    "])"
   ]
  },
  {
   "cell_type": "code",
   "execution_count": 49,
   "metadata": {},
   "outputs": [],
   "source": [
    "pipe1_params = {\n",
    "    'cvec__max_features': np.arange(3000, 6000, 30),\n",
    "    'cvec__max_df': [0.9, 0.95, 0.98, 1.0],\n",
    "    'cvec__min_df': [1,2,3],\n",
    "    'mnb__alpha': np.linspace(0.0, 0.3, 30),\n",
    "    'mnb__fit_prior': [True, False]\n",
    "}"
   ]
  },
  {
   "cell_type": "code",
   "execution_count": 50,
   "metadata": {},
   "outputs": [],
   "source": [
    "random_search1 = RandomizedSearchCV(estimator=pipe1, \n",
    "                            param_distributions=pipe1_params, \n",
    "                            cv=5,\n",
    "                            scoring='accuracy',\n",
    "                            n_jobs=-1, \n",
    "                            verbose=1)"
   ]
  },
  {
   "cell_type": "code",
   "execution_count": 51,
   "metadata": {
    "scrolled": true
   },
   "outputs": [
    {
     "name": "stdout",
     "output_type": "stream",
     "text": [
      "Fitting 5 folds for each of 10 candidates, totalling 50 fits\n"
     ]
    },
    {
     "name": "stderr",
     "output_type": "stream",
     "text": [
      "[Parallel(n_jobs=-1)]: Using backend LokyBackend with 4 concurrent workers.\n",
      "[Parallel(n_jobs=-1)]: Done  42 tasks      | elapsed:   11.0s\n",
      "[Parallel(n_jobs=-1)]: Done  50 out of  50 | elapsed:   12.5s finished\n"
     ]
    },
    {
     "data": {
      "text/plain": [
       "RandomizedSearchCV(cv=5,\n",
       "                   estimator=Pipeline(steps=[('cvec', CountVectorizer()),\n",
       "                                             ('mnb', MultinomialNB())]),\n",
       "                   n_jobs=-1,\n",
       "                   param_distributions={'cvec__max_df': [0.9, 0.95, 0.98, 1.0],\n",
       "                                        'cvec__max_features': array([3000, 3030, 3060, 3090, 3120, 3150, 3180, 3210, 3240, 3270, 3300,\n",
       "       3330, 3360, 3390, 3420, 3450, 3480, 3510, 3540, 3570, 3600, 3630,\n",
       "       3660, 3690, 3720, 3750, 3780, 3810, 3840, 3870, 390...\n",
       "                                        'mnb__alpha': array([0.        , 0.01034483, 0.02068966, 0.03103448, 0.04137931,\n",
       "       0.05172414, 0.06206897, 0.07241379, 0.08275862, 0.09310345,\n",
       "       0.10344828, 0.1137931 , 0.12413793, 0.13448276, 0.14482759,\n",
       "       0.15517241, 0.16551724, 0.17586207, 0.1862069 , 0.19655172,\n",
       "       0.20689655, 0.21724138, 0.22758621, 0.23793103, 0.24827586,\n",
       "       0.25862069, 0.26896552, 0.27931034, 0.28965517, 0.3       ]),\n",
       "                                        'mnb__fit_prior': [True, False]},\n",
       "                   scoring='accuracy', verbose=1)"
      ]
     },
     "execution_count": 51,
     "metadata": {},
     "output_type": "execute_result"
    }
   ],
   "source": [
    "random_search1.fit(X_train, y_train)"
   ]
  },
  {
   "cell_type": "code",
   "execution_count": 52,
   "metadata": {},
   "outputs": [
    {
     "data": {
      "text/plain": [
       "{'mnb__fit_prior': True,\n",
       " 'mnb__alpha': 0.16551724137931034,\n",
       " 'cvec__min_df': 1,\n",
       " 'cvec__max_features': 3900,\n",
       " 'cvec__max_df': 1.0}"
      ]
     },
     "execution_count": 52,
     "metadata": {},
     "output_type": "execute_result"
    }
   ],
   "source": [
    "random_search1.best_params_"
   ]
  },
  {
   "cell_type": "code",
   "execution_count": 53,
   "metadata": {},
   "outputs": [
    {
     "data": {
      "text/plain": [
       "0.7188828670706687"
      ]
     },
     "execution_count": 53,
     "metadata": {},
     "output_type": "execute_result"
    }
   ],
   "source": [
    "random_search1.best_score_"
   ]
  },
  {
   "cell_type": "code",
   "execution_count": 54,
   "metadata": {},
   "outputs": [
    {
     "data": {
      "text/plain": [
       "(0.8547900427457883, 0.7266499057196731)"
      ]
     },
     "execution_count": 54,
     "metadata": {},
     "output_type": "execute_result"
    }
   ],
   "source": [
    "random_search1.score(X_train, y_train), random_search1.score(X_test, y_test)"
   ]
  },
  {
   "cell_type": "code",
   "execution_count": 16,
   "metadata": {},
   "outputs": [],
   "source": [
    "pipe2 = Pipeline([\n",
    "    ('tvec', TfidfVectorizer()),\n",
    "    ('mnb', MultinomialNB())\n",
    "])"
   ]
  },
  {
   "cell_type": "code",
   "execution_count": 55,
   "metadata": {},
   "outputs": [],
   "source": [
    "pipe2_params = {\n",
    "    'tvec__max_features': np.arange(3000, 6000, 30),\n",
    "    'tvec__max_df': [0.9, 0.95, 0.98, 1.0],\n",
    "    'tvec__min_df': [1, 2, 3],\n",
    "    'mnb__alpha': np.linspace(0.0, 0.3, 30),\n",
    "    'mnb__fit_prior': [True, False]\n",
    "}"
   ]
  },
  {
   "cell_type": "code",
   "execution_count": 56,
   "metadata": {},
   "outputs": [],
   "source": [
    "random_search2 = RandomizedSearchCV(estimator=pipe2, \n",
    "                            param_distributions=pipe2_params, \n",
    "                            cv=5,\n",
    "                            scoring='accuracy',\n",
    "                            n_jobs=-1, \n",
    "                            verbose=1)"
   ]
  },
  {
   "cell_type": "code",
   "execution_count": 57,
   "metadata": {
    "scrolled": true
   },
   "outputs": [
    {
     "name": "stdout",
     "output_type": "stream",
     "text": [
      "Fitting 5 folds for each of 10 candidates, totalling 50 fits\n"
     ]
    },
    {
     "name": "stderr",
     "output_type": "stream",
     "text": [
      "[Parallel(n_jobs=-1)]: Using backend LokyBackend with 4 concurrent workers.\n",
      "[Parallel(n_jobs=-1)]: Done  42 tasks      | elapsed:    9.4s\n",
      "[Parallel(n_jobs=-1)]: Done  50 out of  50 | elapsed:   11.0s finished\n"
     ]
    },
    {
     "data": {
      "text/plain": [
       "RandomizedSearchCV(cv=5,\n",
       "                   estimator=Pipeline(steps=[('tvec', TfidfVectorizer()),\n",
       "                                             ('mnb', MultinomialNB())]),\n",
       "                   n_jobs=-1,\n",
       "                   param_distributions={'mnb__alpha': array([0.        , 0.01034483, 0.02068966, 0.03103448, 0.04137931,\n",
       "       0.05172414, 0.06206897, 0.07241379, 0.08275862, 0.09310345,\n",
       "       0.10344828, 0.1137931 , 0.12413793, 0.13448276, 0.14482759,\n",
       "       0.15517241, 0.16551724, 0.17586207, 0.18620...\n",
       "       3990, 4020, 4050, 4080, 4110, 4140, 4170, 4200, 4230, 4260, 4290,\n",
       "       4320, 4350, 4380, 4410, 4440, 4470, 4500, 4530, 4560, 4590, 4620,\n",
       "       4650, 4680, 4710, 4740, 4770, 4800, 4830, 4860, 4890, 4920, 4950,\n",
       "       4980, 5010, 5040, 5070, 5100, 5130, 5160, 5190, 5220, 5250, 5280,\n",
       "       5310, 5340, 5370, 5400, 5430, 5460, 5490, 5520, 5550, 5580, 5610,\n",
       "       5640, 5670, 5700, 5730, 5760, 5790, 5820, 5850, 5880, 5910, 5940,\n",
       "       5970]),\n",
       "                                        'tvec__min_df': [1, 2, 3]},\n",
       "                   scoring='accuracy', verbose=1)"
      ]
     },
     "execution_count": 57,
     "metadata": {},
     "output_type": "execute_result"
    }
   ],
   "source": [
    "random_search2.fit(X_train, y_train)"
   ]
  },
  {
   "cell_type": "code",
   "execution_count": 58,
   "metadata": {},
   "outputs": [
    {
     "data": {
      "text/plain": [
       "0.7143567788938565"
      ]
     },
     "execution_count": 58,
     "metadata": {},
     "output_type": "execute_result"
    }
   ],
   "source": [
    "random_search2.best_score_"
   ]
  },
  {
   "cell_type": "code",
   "execution_count": 59,
   "metadata": {},
   "outputs": [
    {
     "data": {
      "text/plain": [
       "{'tvec__min_df': 1,\n",
       " 'tvec__max_features': 4650,\n",
       " 'tvec__max_df': 0.95,\n",
       " 'mnb__fit_prior': False,\n",
       " 'mnb__alpha': 0.19655172413793104}"
      ]
     },
     "execution_count": 59,
     "metadata": {},
     "output_type": "execute_result"
    }
   ],
   "source": [
    "random_search2.best_params_ "
   ]
  },
  {
   "cell_type": "code",
   "execution_count": 60,
   "metadata": {},
   "outputs": [
    {
     "data": {
      "text/plain": [
       "(0.858058838320342, 0.7231301068510371)"
      ]
     },
     "execution_count": 60,
     "metadata": {},
     "output_type": "execute_result"
    }
   ],
   "source": [
    "random_search2.score(X_train, y_train), random_search2.score(X_test, y_test)"
   ]
  }
 ],
 "metadata": {
  "kernelspec": {
   "display_name": "Python 3",
   "language": "python",
   "name": "python3"
  },
  "language_info": {
   "codemirror_mode": {
    "name": "ipython",
    "version": 3
   },
   "file_extension": ".py",
   "mimetype": "text/x-python",
   "name": "python",
   "nbconvert_exporter": "python",
   "pygments_lexer": "ipython3",
   "version": "3.8.5"
  }
 },
 "nbformat": 4,
 "nbformat_minor": 4
}
