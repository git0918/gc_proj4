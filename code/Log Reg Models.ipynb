{
 "cells": [
  {
   "cell_type": "code",
   "execution_count": 71,
   "metadata": {},
   "outputs": [],
   "source": [
    "import pandas as pd\n",
    "import numpy as np\n",
    "\n",
    "#Plotting Libraries\n",
    "import matplotlib.pyplot as plt\n",
    "import seaborn as sns\n",
    "\n",
    "from sklearn.feature_extraction.text import CountVectorizer, TfidfVectorizer\n",
    "from sklearn.model_selection import train_test_split\n",
    "from sklearn.pipeline import Pipeline\n",
    "from sklearn.linear_model import LogisticRegression,  LogisticRegressionCV\n",
    "from sklearn.metrics import confusion_matrix \n",
    "from sklearn.metrics import accuracy_score \n",
    "from sklearn.model_selection import train_test_split, GridSearchCV,RandomizedSearchCV, cross_val_score\n",
    "from sklearn.metrics import confusion_matrix, plot_confusion_matrix, recall_score, precision_score\n",
    "from sklearn.preprocessing import StandardScaler"
   ]
  },
  {
   "cell_type": "code",
   "execution_count": 2,
   "metadata": {},
   "outputs": [],
   "source": [
    "df = pd.read_json('../data/cleaned_v1.json')"
   ]
  },
  {
   "cell_type": "code",
   "execution_count": 3,
   "metadata": {
    "scrolled": false
   },
   "outputs": [
    {
     "data": {
      "text/plain": [
       "id                   int64\n",
       "cuisine             object\n",
       "ingredients         object\n",
       "ingredient_count     int64\n",
       "dtype: object"
      ]
     },
     "execution_count": 3,
     "metadata": {},
     "output_type": "execute_result"
    }
   ],
   "source": [
    "df.dtypes"
   ]
  },
  {
   "cell_type": "code",
   "execution_count": 4,
   "metadata": {},
   "outputs": [],
   "source": [
    "X = df['ingredients']\n",
    "y = df['cuisine']"
   ]
  },
  {
   "cell_type": "code",
   "execution_count": 5,
   "metadata": {},
   "outputs": [],
   "source": [
    "X_train, X_test, y_train, y_test = train_test_split(X, y, random_state=42, stratify=y)"
   ]
  },
  {
   "cell_type": "code",
   "execution_count": 12,
   "metadata": {},
   "outputs": [],
   "source": [
    "pipe = Pipeline([('cvec', CountVectorizer()), ('log', LogisticRegression(max_iter = 2111))])"
   ]
  },
  {
   "cell_type": "code",
   "execution_count": 13,
   "metadata": {},
   "outputs": [],
   "source": [
    "pipe_params_cvec = {'cvec__max_features': [500, 1000],\n",
    "    'cvec__min_df': [2],\n",
    "    'cvec__max_df': [.90, .95],\n",
    "    'cvec__ngram_range': [(1,2), (2,3)]\n",
    "}"
   ]
  },
  {
   "cell_type": "code",
   "execution_count": 14,
   "metadata": {},
   "outputs": [],
   "source": [
    "gs = GridSearchCV(pipe, \n",
    "                  pipe_params_cvec,          #parameters values. \n",
    "                  cv = 3,\n",
    "                  n_jobs = -2,\n",
    "                  verbose = 1 )      "
   ]
  },
  {
   "cell_type": "code",
   "execution_count": 15,
   "metadata": {
    "scrolled": true
   },
   "outputs": [
    {
     "name": "stdout",
     "output_type": "stream",
     "text": [
      "Fitting 3 folds for each of 8 candidates, totalling 24 fits\n"
     ]
    },
    {
     "name": "stderr",
     "output_type": "stream",
     "text": [
      "[Parallel(n_jobs=-2)]: Using backend LokyBackend with 3 concurrent workers.\n",
      "[Parallel(n_jobs=-2)]: Done  24 out of  24 | elapsed:  2.0min finished\n"
     ]
    }
   ],
   "source": [
    "gs.fit(X_train, y_train);\n"
   ]
  },
  {
   "cell_type": "code",
   "execution_count": 16,
   "metadata": {},
   "outputs": [
    {
     "data": {
      "text/plain": [
       "0.8102581293999329"
      ]
     },
     "execution_count": 16,
     "metadata": {},
     "output_type": "execute_result"
    }
   ],
   "source": [
    "gs.score(X_train, y_train)"
   ]
  },
  {
   "cell_type": "code",
   "execution_count": 17,
   "metadata": {},
   "outputs": [
    {
     "data": {
      "text/plain": [
       "0.7207361222847949"
      ]
     },
     "execution_count": 17,
     "metadata": {},
     "output_type": "execute_result"
    }
   ],
   "source": [
    "gs.score(X_test, y_test)"
   ]
  },
  {
   "cell_type": "code",
   "execution_count": 18,
   "metadata": {},
   "outputs": [
    {
     "data": {
      "text/plain": [
       "{'cvec__max_df': 0.9,\n",
       " 'cvec__max_features': 1000,\n",
       " 'cvec__min_df': 2,\n",
       " 'cvec__ngram_range': (1, 2)}"
      ]
     },
     "execution_count": 18,
     "metadata": {},
     "output_type": "execute_result"
    }
   ],
   "source": [
    "gs.best_params_"
   ]
  },
  {
   "cell_type": "code",
   "execution_count": 19,
   "metadata": {},
   "outputs": [],
   "source": [
    "log_preds = gs.predict(X_test)"
   ]
  },
  {
   "cell_type": "code",
   "execution_count": 89,
   "metadata": {},
   "outputs": [
    {
     "data": {
      "text/html": [
       "<div>\n",
       "<style scoped>\n",
       "    .dataframe tbody tr th:only-of-type {\n",
       "        vertical-align: middle;\n",
       "    }\n",
       "\n",
       "    .dataframe tbody tr th {\n",
       "        vertical-align: top;\n",
       "    }\n",
       "\n",
       "    .dataframe thead th {\n",
       "        text-align: right;\n",
       "    }\n",
       "</style>\n",
       "<table border=\"1\" class=\"dataframe\">\n",
       "  <thead>\n",
       "    <tr style=\"text-align: right;\">\n",
       "      <th></th>\n",
       "      <th>vals</th>\n",
       "    </tr>\n",
       "    <tr>\n",
       "      <th>coefs</th>\n",
       "      <th></th>\n",
       "    </tr>\n",
       "  </thead>\n",
       "  <tbody>\n",
       "    <tr>\n",
       "      <th>blackbeans</th>\n",
       "      <td>3.016799</td>\n",
       "    </tr>\n",
       "    <tr>\n",
       "      <th>lime</th>\n",
       "      <td>2.886635</td>\n",
       "    </tr>\n",
       "    <tr>\n",
       "      <th>sweetenedcondensedmilk</th>\n",
       "      <td>2.564560</td>\n",
       "    </tr>\n",
       "    <tr>\n",
       "      <th>coconutmilk</th>\n",
       "      <td>2.365526</td>\n",
       "    </tr>\n",
       "    <tr>\n",
       "      <th>collardgreens</th>\n",
       "      <td>2.263042</td>\n",
       "    </tr>\n",
       "    <tr>\n",
       "      <th>unsweetenedcoconutmilk</th>\n",
       "      <td>2.122995</td>\n",
       "    </tr>\n",
       "    <tr>\n",
       "      <th>bananas</th>\n",
       "      <td>1.978985</td>\n",
       "    </tr>\n",
       "    <tr>\n",
       "      <th>superfinesugar</th>\n",
       "      <td>1.914742</td>\n",
       "    </tr>\n",
       "    <tr>\n",
       "      <th>unsweetenedcocoapowder</th>\n",
       "      <td>1.696580</td>\n",
       "    </tr>\n",
       "    <tr>\n",
       "      <th>parmesancheese</th>\n",
       "      <td>1.625179</td>\n",
       "    </tr>\n",
       "    <tr>\n",
       "      <th>ice</th>\n",
       "      <td>1.526600</td>\n",
       "    </tr>\n",
       "    <tr>\n",
       "      <th>soysauce</th>\n",
       "      <td>-1.473247</td>\n",
       "    </tr>\n",
       "    <tr>\n",
       "      <th>limejuice</th>\n",
       "      <td>1.432708</td>\n",
       "    </tr>\n",
       "    <tr>\n",
       "      <th>icecubes</th>\n",
       "      <td>1.382641</td>\n",
       "    </tr>\n",
       "    <tr>\n",
       "      <th>quesofresco</th>\n",
       "      <td>1.352385</td>\n",
       "    </tr>\n",
       "    <tr>\n",
       "      <th>limewedges</th>\n",
       "      <td>1.347088</td>\n",
       "    </tr>\n",
       "    <tr>\n",
       "      <th>bellpepper</th>\n",
       "      <td>1.344292</td>\n",
       "    </tr>\n",
       "    <tr>\n",
       "      <th>heavywhippingcream</th>\n",
       "      <td>-1.288316</td>\n",
       "    </tr>\n",
       "    <tr>\n",
       "      <th>bayleaves</th>\n",
       "      <td>1.269280</td>\n",
       "    </tr>\n",
       "    <tr>\n",
       "      <th>bayleaf</th>\n",
       "      <td>1.265862</td>\n",
       "    </tr>\n",
       "  </tbody>\n",
       "</table>\n",
       "</div>"
      ],
      "text/plain": [
       "                            vals\n",
       "coefs                           \n",
       "blackbeans              3.016799\n",
       "lime                    2.886635\n",
       "sweetenedcondensedmilk  2.564560\n",
       "coconutmilk             2.365526\n",
       "collardgreens           2.263042\n",
       "unsweetenedcoconutmilk  2.122995\n",
       "bananas                 1.978985\n",
       "superfinesugar          1.914742\n",
       "unsweetenedcocoapowder  1.696580\n",
       "parmesancheese          1.625179\n",
       "ice                     1.526600\n",
       "soysauce               -1.473247\n",
       "limejuice               1.432708\n",
       "icecubes                1.382641\n",
       "quesofresco             1.352385\n",
       "limewedges              1.347088\n",
       "bellpepper              1.344292\n",
       "heavywhippingcream     -1.288316\n",
       "bayleaves               1.269280\n",
       "bayleaf                 1.265862"
      ]
     },
     "execution_count": 89,
     "metadata": {},
     "output_type": "execute_result"
    }
   ],
   "source": [
    "coef_names = gs.best_estimator_.named_steps['cvec'].get_feature_names()\n",
    "coef_vals = gs.best_estimator_.named_steps['log'].coef_[0]\n",
    "\n",
    "coef_df = pd.DataFrame ({\n",
    "    'coefs' : coef_names,\n",
    "    'vals' : coef_vals\n",
    "}).set_index('coefs')\n",
    "\n",
    "coef_df.reindex(coef_df['vals'].abs().sort_values(ascending=False).index)[:20]"
   ]
  },
  {
   "cell_type": "code",
   "execution_count": 28,
   "metadata": {},
   "outputs": [
    {
     "name": "stdout",
     "output_type": "stream",
     "text": [
      "Accuracy :  0.7207361222847949\n"
     ]
    }
   ],
   "source": [
    "print (\"Accuracy : \", accuracy_score(y_test, log_preds)) "
   ]
  },
  {
   "cell_type": "markdown",
   "metadata": {},
   "source": [
    "**Lasso Model**"
   ]
  },
  {
   "cell_type": "code",
   "execution_count": 85,
   "metadata": {},
   "outputs": [],
   "source": [
    "lasso_pipe = Pipeline([('tfid', TfidfVectorizer(\n",
    "    max_df=.325,\n",
    "    max_features=6500,\n",
    "    min_df=5,\n",
    "    ngram_range=(1, 2))),\n",
    "    ('log', LogisticRegression(penalty='none',\n",
    "                                 solver='lbfgs',\n",
    "                                 max_iter = 2111,\n",
    "                                 verbose=0\n",
    "                                ))])"
   ]
  },
  {
   "cell_type": "code",
   "execution_count": 81,
   "metadata": {},
   "outputs": [],
   "source": [
    "lasso_pipe.fit(X_train, y_train);"
   ]
  },
  {
   "cell_type": "code",
   "execution_count": 82,
   "metadata": {},
   "outputs": [
    {
     "data": {
      "text/plain": [
       "0.9992960107274556"
      ]
     },
     "execution_count": 82,
     "metadata": {},
     "output_type": "execute_result"
    }
   ],
   "source": [
    "lasso_pipe.score(X_train, y_train)"
   ]
  },
  {
   "cell_type": "code",
   "execution_count": 83,
   "metadata": {
    "scrolled": true
   },
   "outputs": [
    {
     "data": {
      "text/plain": [
       "0.6908688656476267"
      ]
     },
     "execution_count": 83,
     "metadata": {},
     "output_type": "execute_result"
    }
   ],
   "source": [
    "lasso_pipe.score(X_test, y_test)"
   ]
  },
  {
   "cell_type": "code",
   "execution_count": null,
   "metadata": {},
   "outputs": [],
   "source": []
  },
  {
   "cell_type": "markdown",
   "metadata": {},
   "source": [
    "**Complementary EDA**"
   ]
  },
  {
   "cell_type": "code",
   "execution_count": 95,
   "metadata": {},
   "outputs": [
    {
     "data": {
      "text/plain": [
       "0              greek\n",
       "1        southern_us\n",
       "2           filipino\n",
       "3             indian\n",
       "4             indian\n",
       "            ...     \n",
       "39769          irish\n",
       "39770        italian\n",
       "39771          irish\n",
       "39772        chinese\n",
       "39773        mexican\n",
       "Name: cuisine, Length: 39774, dtype: object"
      ]
     },
     "execution_count": 95,
     "metadata": {},
     "output_type": "execute_result"
    }
   ],
   "source": [
    "df['cuisine']"
   ]
  },
  {
   "cell_type": "code",
   "execution_count": 100,
   "metadata": {},
   "outputs": [
    {
     "name": "stdout",
     "output_type": "stream",
     "text": [
      "The total number of distinct cuisines :  20\n",
      "These cusisines are :                 0\n",
      "0          greek\n",
      "1    southern_us\n",
      "2       filipino\n",
      "3         indian\n",
      "4       jamaican\n",
      "5        spanish\n",
      "6        italian\n",
      "7        mexican\n",
      "8        chinese\n",
      "9        british\n",
      "10          thai\n",
      "11    vietnamese\n",
      "12  cajun_creole\n",
      "13     brazilian\n",
      "14        french\n",
      "15      japanese\n",
      "16         irish\n",
      "17        korean\n",
      "18      moroccan\n",
      "19       russian\n"
     ]
    }
   ],
   "source": [
    "print(\"The total number of distinct cuisines : \", len(df.cuisine.unique()))\n",
    "print(\"These cusisines are : \", pd.DataFrame(df.cuisine.unique()))"
   ]
  },
  {
   "cell_type": "code",
   "execution_count": 110,
   "metadata": {},
   "outputs": [],
   "source": [
    "#How many ingredients per cuisine?\n",
    "\n",
    "n_ingredients_cuisine = df.groupby('cuisine')['id'].count().sort_values(ascending =False).reset_index().rename(columns={'cuisine': 'Cuisine' , 'id':'Total Ingredients'})"
   ]
  },
  {
   "cell_type": "code",
   "execution_count": 111,
   "metadata": {},
   "outputs": [
    {
     "data": {
      "text/html": [
       "<div>\n",
       "<style scoped>\n",
       "    .dataframe tbody tr th:only-of-type {\n",
       "        vertical-align: middle;\n",
       "    }\n",
       "\n",
       "    .dataframe tbody tr th {\n",
       "        vertical-align: top;\n",
       "    }\n",
       "\n",
       "    .dataframe thead th {\n",
       "        text-align: right;\n",
       "    }\n",
       "</style>\n",
       "<table border=\"1\" class=\"dataframe\">\n",
       "  <thead>\n",
       "    <tr style=\"text-align: right;\">\n",
       "      <th></th>\n",
       "      <th>Cuisine</th>\n",
       "      <th>Total Ingredients</th>\n",
       "    </tr>\n",
       "  </thead>\n",
       "  <tbody>\n",
       "    <tr>\n",
       "      <th>0</th>\n",
       "      <td>italian</td>\n",
       "      <td>7838</td>\n",
       "    </tr>\n",
       "    <tr>\n",
       "      <th>1</th>\n",
       "      <td>mexican</td>\n",
       "      <td>6438</td>\n",
       "    </tr>\n",
       "    <tr>\n",
       "      <th>2</th>\n",
       "      <td>southern_us</td>\n",
       "      <td>4320</td>\n",
       "    </tr>\n",
       "    <tr>\n",
       "      <th>3</th>\n",
       "      <td>indian</td>\n",
       "      <td>3003</td>\n",
       "    </tr>\n",
       "    <tr>\n",
       "      <th>4</th>\n",
       "      <td>chinese</td>\n",
       "      <td>2673</td>\n",
       "    </tr>\n",
       "    <tr>\n",
       "      <th>5</th>\n",
       "      <td>french</td>\n",
       "      <td>2646</td>\n",
       "    </tr>\n",
       "    <tr>\n",
       "      <th>6</th>\n",
       "      <td>cajun_creole</td>\n",
       "      <td>1546</td>\n",
       "    </tr>\n",
       "    <tr>\n",
       "      <th>7</th>\n",
       "      <td>thai</td>\n",
       "      <td>1539</td>\n",
       "    </tr>\n",
       "    <tr>\n",
       "      <th>8</th>\n",
       "      <td>japanese</td>\n",
       "      <td>1423</td>\n",
       "    </tr>\n",
       "    <tr>\n",
       "      <th>9</th>\n",
       "      <td>greek</td>\n",
       "      <td>1175</td>\n",
       "    </tr>\n",
       "    <tr>\n",
       "      <th>10</th>\n",
       "      <td>spanish</td>\n",
       "      <td>989</td>\n",
       "    </tr>\n",
       "    <tr>\n",
       "      <th>11</th>\n",
       "      <td>korean</td>\n",
       "      <td>830</td>\n",
       "    </tr>\n",
       "    <tr>\n",
       "      <th>12</th>\n",
       "      <td>vietnamese</td>\n",
       "      <td>825</td>\n",
       "    </tr>\n",
       "    <tr>\n",
       "      <th>13</th>\n",
       "      <td>moroccan</td>\n",
       "      <td>821</td>\n",
       "    </tr>\n",
       "    <tr>\n",
       "      <th>14</th>\n",
       "      <td>british</td>\n",
       "      <td>804</td>\n",
       "    </tr>\n",
       "    <tr>\n",
       "      <th>15</th>\n",
       "      <td>filipino</td>\n",
       "      <td>755</td>\n",
       "    </tr>\n",
       "    <tr>\n",
       "      <th>16</th>\n",
       "      <td>irish</td>\n",
       "      <td>667</td>\n",
       "    </tr>\n",
       "    <tr>\n",
       "      <th>17</th>\n",
       "      <td>jamaican</td>\n",
       "      <td>526</td>\n",
       "    </tr>\n",
       "    <tr>\n",
       "      <th>18</th>\n",
       "      <td>russian</td>\n",
       "      <td>489</td>\n",
       "    </tr>\n",
       "    <tr>\n",
       "      <th>19</th>\n",
       "      <td>brazilian</td>\n",
       "      <td>467</td>\n",
       "    </tr>\n",
       "  </tbody>\n",
       "</table>\n",
       "</div>"
      ],
      "text/plain": [
       "         Cuisine  Total Ingredients\n",
       "0        italian               7838\n",
       "1        mexican               6438\n",
       "2    southern_us               4320\n",
       "3         indian               3003\n",
       "4        chinese               2673\n",
       "5         french               2646\n",
       "6   cajun_creole               1546\n",
       "7           thai               1539\n",
       "8       japanese               1423\n",
       "9          greek               1175\n",
       "10       spanish                989\n",
       "11        korean                830\n",
       "12    vietnamese                825\n",
       "13      moroccan                821\n",
       "14       british                804\n",
       "15      filipino                755\n",
       "16         irish                667\n",
       "17      jamaican                526\n",
       "18       russian                489\n",
       "19     brazilian                467"
      ]
     },
     "execution_count": 111,
     "metadata": {},
     "output_type": "execute_result"
    }
   ],
   "source": [
    "n_ingredients_cuisine"
   ]
  }
 ],
 "metadata": {
  "kernelspec": {
   "display_name": "Python 3",
   "language": "python",
   "name": "python3"
  },
  "language_info": {
   "codemirror_mode": {
    "name": "ipython",
    "version": 3
   },
   "file_extension": ".py",
   "mimetype": "text/x-python",
   "name": "python",
   "nbconvert_exporter": "python",
   "pygments_lexer": "ipython3",
   "version": "3.8.5"
  }
 },
 "nbformat": 4,
 "nbformat_minor": 4
}
