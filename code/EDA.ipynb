{
 "cells": [
  {
   "cell_type": "code",
   "execution_count": 1,
   "metadata": {},
   "outputs": [],
   "source": [
    "import pandas as pd\n",
    "import numpy as np"
   ]
  },
  {
   "cell_type": "code",
   "execution_count": 6,
   "metadata": {},
   "outputs": [],
   "source": [
    "pd.set_option('display.max_rows', 10000)\n",
    "pd.set_option('display.max_columns', 500)\n",
    "pd.set_option('display.precision',150)"
   ]
  },
  {
   "cell_type": "code",
   "execution_count": 8,
   "metadata": {},
   "outputs": [],
   "source": [
    "df = pd.read_json('../data/whats-cooking/train.json')"
   ]
  },
  {
   "cell_type": "code",
   "execution_count": 23,
   "metadata": {},
   "outputs": [],
   "source": [
    "def lower_list(arr):\n",
    "    return [x.lower() for x in arr]"
   ]
  },
  {
   "cell_type": "code",
   "execution_count": null,
   "metadata": {},
   "outputs": [],
   "source": [
    "def contains_ingredient(item_id):\n",
    "    ings = df[df['id'] == item_id]['ingredients']\n",
    "    ings_list = list(ings)[0]\n",
    "    for item in ings_list:\n",
    "        df.loc[df['id'] == item_id, [item]] = 1\n",
    "    "
   ]
  },
  {
   "cell_type": "code",
   "execution_count": null,
   "metadata": {},
   "outputs": [],
   "source": [
    "df['id'].map(contains_ingredient)"
   ]
  },
  {
   "cell_type": "code",
   "execution_count": null,
   "metadata": {
    "scrolled": true
   },
   "outputs": [],
   "source": [
    "df.head()"
   ]
  },
  {
   "cell_type": "code",
   "execution_count": 24,
   "metadata": {},
   "outputs": [],
   "source": [
    "df['ingredients'] = df['ingredients'].map(lower_list)"
   ]
  },
  {
   "cell_type": "code",
   "execution_count": 25,
   "metadata": {
    "scrolled": true
   },
   "outputs": [
    {
     "data": {
      "text/plain": [
       "0     [romaine lettuce, black olives, grape tomatoes...\n",
       "1     [plain flour, ground pepper, salt, tomatoes, g...\n",
       "2     [eggs, pepper, salt, mayonaise, cooking oil, g...\n",
       "3                   [water, vegetable oil, wheat, salt]\n",
       "4     [black pepper, shallots, cornflour, cayenne pe...\n",
       "5     [plain flour, sugar, butter, eggs, fresh ginge...\n",
       "6     [olive oil, salt, medium shrimp, pepper, garli...\n",
       "7     [sugar, pistachio nuts, white almond bark, flo...\n",
       "8     [olive oil, purple onion, fresh pineapple, por...\n",
       "9     [chopped tomatoes, fresh basil, garlic, extra-...\n",
       "10    [pimentos, sweet pepper, dried oregano, olive ...\n",
       "11    [low sodium soy sauce, fresh ginger, dry musta...\n",
       "12    [italian parsley leaves, walnuts, hot red pepp...\n",
       "13    [ground cinnamon, fresh cilantro, chili powder...\n",
       "14    [fresh parmesan cheese, butter, all-purpose fl...\n",
       "15    [tumeric, vegetable stock, tomatoes, garam mas...\n",
       "16    [greek yogurt, lemon curd, confectioners sugar...\n",
       "17    [italian seasoning, broiler-fryer chicken, may...\n",
       "18     [sugar, hot chili, asian fish sauce, lime juice]\n",
       "19    [soy sauce, vegetable oil, red bell pepper, ch...\n",
       "20    [pork loin, roasted peanuts, chopped cilantro ...\n",
       "21    [roma tomatoes, kosher salt, purple onion, jal...\n",
       "22    [low-fat mayonnaise, pepper, salt, baking pota...\n",
       "23    [sesame seeds, red pepper, yellow peppers, wat...\n",
       "24    [marinara sauce, flat leaf parsley, olive oil,...\n",
       "25    [sugar, lo mein noodles, salt, chicken broth, ...\n",
       "26    [herbs, lemon juice, fresh tomatoes, paprika, ...\n",
       "27    [ground black pepper, butter, sliced mushrooms...\n",
       "28    [green bell pepper, egg roll wrappers, sweet a...\n",
       "29    [flour tortillas, cheese, breakfast sausages, ...\n",
       "Name: ingredients, dtype: object"
      ]
     },
     "execution_count": 25,
     "metadata": {},
     "output_type": "execute_result"
    }
   ],
   "source": [
    "df['ingredients'].head(30)"
   ]
  },
  {
   "cell_type": "code",
   "execution_count": 17,
   "metadata": {},
   "outputs": [],
   "source": [
    "df['ingredient_count'] = df['ingredients'].map(lambda x: len(x))"
   ]
  },
  {
   "cell_type": "code",
   "execution_count": null,
   "metadata": {},
   "outputs": [],
   "source": []
  }
 ],
 "metadata": {
  "kernelspec": {
   "display_name": "Python 3",
   "language": "python",
   "name": "python3"
  },
  "language_info": {
   "codemirror_mode": {
    "name": "ipython",
    "version": 3
   },
   "file_extension": ".py",
   "mimetype": "text/x-python",
   "name": "python",
   "nbconvert_exporter": "python",
   "pygments_lexer": "ipython3",
   "version": "3.8.5"
  }
 },
 "nbformat": 4,
 "nbformat_minor": 4
}
